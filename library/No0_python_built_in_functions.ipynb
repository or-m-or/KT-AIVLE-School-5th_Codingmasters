{
 "cells": [
  {
   "cell_type": "markdown",
   "id": "d55b0486",
   "metadata": {},
   "source": [
    "# Python Built-in Functions Examples"
   ]
  },
  {
   "cell_type": "markdown",
   "id": "63ffd42d",
   "metadata": {},
   "source": [
    "## all(iterable)\n",
    "이터러블의 모든 요소가 True인지 확인합니다."
   ]
  },
  {
   "cell_type": "code",
   "execution_count": 1,
   "id": "62963fa7",
   "metadata": {},
   "outputs": [
    {
     "name": "stdout",
     "output_type": "stream",
     "text": [
      "True\n",
      "False\n"
     ]
    }
   ],
   "source": [
    "print(all([1, True, 'a']))  # Output: True\n",
    "print(all([1, False, 'a']))  # Output: False"
   ]
  },
  {
   "cell_type": "markdown",
   "id": "9cc9105f",
   "metadata": {},
   "source": [
    "## any(iterable)\n",
    "이터러블의 요소가 True인지 확인합니다."
   ]
  },
  {
   "cell_type": "code",
   "execution_count": 2,
   "id": "b4d9c13d",
   "metadata": {},
   "outputs": [
    {
     "name": "stdout",
     "output_type": "stream",
     "text": [
      "False\n",
      "True\n"
     ]
    }
   ],
   "source": [
    "print(any([0, False, '']))  # Output: False\n",
    "print(any([0, True, '']))  # Output: True"
   ]
  },
  {
   "cell_type": "markdown",
   "id": "672512fb",
   "metadata": {},
   "source": [
    "## divmod(a, b)\n",
    "a를 b로 나눈 몫과 나머지를 반환합니다."
   ]
  },
  {
   "cell_type": "code",
   "execution_count": 3,
   "id": "9ab0cf8c",
   "metadata": {},
   "outputs": [
    {
     "name": "stdout",
     "output_type": "stream",
     "text": [
      "(2, 1)\n"
     ]
    }
   ],
   "source": [
    "print(divmod(9, 4))  # Output: (2, 1)"
   ]
  },
  {
   "cell_type": "markdown",
   "id": "40049c2f",
   "metadata": {},
   "source": [
    "## enumerate(iterable, start=0)\n",
    "열거형 객체를 반환합니다."
   ]
  },
  {
   "cell_type": "code",
   "execution_count": 4,
   "id": "0a81aaa8",
   "metadata": {},
   "outputs": [
    {
     "name": "stdout",
     "output_type": "stream",
     "text": [
      "1: a\n",
      "2: b\n",
      "3: c\n"
     ]
    }
   ],
   "source": [
    "for i, v in enumerate(['a', 'b', 'c'], start=1):\n",
    "    print(f'{i}: {v}')"
   ]
  },
  {
   "cell_type": "markdown",
   "id": "899f0b63",
   "metadata": {},
   "source": [
    "## filter(function, iterable)\n",
    "이터러블에서 요소를 필터링합니다."
   ]
  },
  {
   "cell_type": "code",
   "execution_count": 5,
   "id": "592ba11a",
   "metadata": {},
   "outputs": [
    {
     "name": "stdout",
     "output_type": "stream",
     "text": [
      "[1, 2]\n"
     ]
    }
   ],
   "source": [
    "result = filter(lambda x: x > 0, [-1, 0, 1, 2])\n",
    "print(list(result))  # Output: [1, 2]"
   ]
  },
  {
   "cell_type": "markdown",
   "id": "48841cc3",
   "metadata": {},
   "source": [
    "## isinstance(object, classinfo)\n",
    "객체가 클래스의 인스턴스인지 확인합니다."
   ]
  },
  {
   "cell_type": "code",
   "execution_count": 6,
   "id": "85f784e6",
   "metadata": {},
   "outputs": [
    {
     "name": "stdout",
     "output_type": "stream",
     "text": [
      "True\n"
     ]
    }
   ],
   "source": [
    "print(isinstance(5, int))  # Output: True"
   ]
  },
  {
   "cell_type": "markdown",
   "id": "cadcfab8",
   "metadata": {},
   "source": [
    "## len(s)\n",
    "객체의 길이를 반환합니다."
   ]
  },
  {
   "cell_type": "code",
   "execution_count": 7,
   "id": "6c37e6ba",
   "metadata": {},
   "outputs": [
    {
     "name": "stdout",
     "output_type": "stream",
     "text": [
      "5\n"
     ]
    }
   ],
   "source": [
    "print(len('hello'))  # Output: 5"
   ]
  },
  {
   "cell_type": "markdown",
   "id": "e5195586",
   "metadata": {},
   "source": [
    "## map(function, iterable)\n",
    "이터러블의 모든 항목에 함수를 적용합니다."
   ]
  },
  {
   "cell_type": "code",
   "execution_count": 8,
   "id": "9f96ad81",
   "metadata": {},
   "outputs": [
    {
     "name": "stdout",
     "output_type": "stream",
     "text": [
      "[2, 4, 6]\n"
     ]
    }
   ],
   "source": [
    "result = map(lambda x: x * 2, [1, 2, 3])\n",
    "print(list(result))  # Output: [2, 4, 6]"
   ]
  },
  {
   "cell_type": "markdown",
   "id": "b5eb155e",
   "metadata": {},
   "source": [
    "## max(iterable, *[, key, default])\n",
    "이터러블에서 가장 큰 항목을 반환합니다."
   ]
  },
  {
   "cell_type": "code",
   "execution_count": 9,
   "id": "d655c12f",
   "metadata": {},
   "outputs": [
    {
     "name": "stdout",
     "output_type": "stream",
     "text": [
      "3\n"
     ]
    }
   ],
   "source": [
    "print(max([1, 2, 3]))  # Output: 3"
   ]
  },
  {
   "cell_type": "markdown",
   "id": "f5e32b64",
   "metadata": {},
   "source": [
    "## min(iterable, *[, key, default])\n",
    "이터러블에서 가장 작은 항목을 반환합니다."
   ]
  },
  {
   "cell_type": "code",
   "execution_count": 10,
   "id": "e0f3a23f",
   "metadata": {},
   "outputs": [
    {
     "name": "stdout",
     "output_type": "stream",
     "text": [
      "1\n"
     ]
    }
   ],
   "source": [
    "print(min([1, 2, 3]))  # Output: 1"
   ]
  },
  {
   "cell_type": "markdown",
   "id": "de50ac47",
   "metadata": {},
   "source": [
    "## range(start, stop[, step])\n",
    "일련의 숫자를 생성합니다."
   ]
  },
  {
   "cell_type": "code",
   "execution_count": 11,
   "id": "9cbb2691",
   "metadata": {},
   "outputs": [
    {
     "name": "stdout",
     "output_type": "stream",
     "text": [
      "0\n",
      "1\n",
      "2\n"
     ]
    }
   ],
   "source": [
    "for i in range(3):\n",
    "    print(i)  # Output: 0 1 2"
   ]
  },
  {
   "cell_type": "markdown",
   "id": "ceac9773",
   "metadata": {},
   "source": [
    "## reversed(seq)\n",
    "역방향 이터레이터를 반환합니다"
   ]
  },
  {
   "cell_type": "code",
   "execution_count": 12,
   "id": "e705b4c9",
   "metadata": {},
   "outputs": [
    {
     "name": "stdout",
     "output_type": "stream",
     "text": [
      "3\n",
      "2\n",
      "1\n"
     ]
    }
   ],
   "source": [
    "for i in reversed([1, 2, 3]):\n",
    "    print(i)  # Output: 3 2 1"
   ]
  },
  {
   "cell_type": "markdown",
   "id": "aac71ef3",
   "metadata": {},
   "source": [
    "## sorted(iterable, *, key=None, reverse=False)\n",
    "이터러블의 항목에서 정렬된 목록을 반환합니다."
   ]
  },
  {
   "cell_type": "code",
   "execution_count": 13,
   "id": "c9d6f990",
   "metadata": {},
   "outputs": [
    {
     "name": "stdout",
     "output_type": "stream",
     "text": [
      "[1, 2, 3]\n"
     ]
    }
   ],
   "source": [
    "print(sorted([3, 1, 2]))  # Output: [1, 2, 3]"
   ]
  },
  {
   "cell_type": "markdown",
   "id": "d7bb07fa",
   "metadata": {},
   "source": [
    "## sum(iterable, /, start=0)\n",
    "합계가 시작되고 이터러블의 항목이 왼쪽에서 오른쪽으로 이동합니다."
   ]
  },
  {
   "cell_type": "code",
   "execution_count": 14,
   "id": "f6deccac",
   "metadata": {},
   "outputs": [
    {
     "name": "stdout",
     "output_type": "stream",
     "text": [
      "6\n"
     ]
    }
   ],
   "source": [
    "print(sum([1, 2, 3]))  # Output: 6"
   ]
  },
  {
   "cell_type": "markdown",
   "id": "6c285ae3",
   "metadata": {},
   "source": [
    "## zip(*iterables)\n",
    "튜플의 이터레이터를 반환하며, 여기서 i번째 튜플은 각 인자 시퀀스 또는 이터러블에서 i번째 요소를 포함합니다."
   ]
  },
  {
   "cell_type": "code",
   "execution_count": 15,
   "id": "f4bccb0d",
   "metadata": {},
   "outputs": [
    {
     "name": "stdout",
     "output_type": "stream",
     "text": [
      "(1, 'a')\n",
      "(2, 'b')\n"
     ]
    }
   ],
   "source": [
    "for item in zip([1, 2], ['a', 'b']):\n",
    "    print(item)  # Output: (1, 'a') (2, 'b')"
   ]
  }
 ],
 "metadata": {
  "kernelspec": {
   "display_name": "Python 3",
   "language": "python",
   "name": "python3"
  },
  "language_info": {
   "codemirror_mode": {
    "name": "ipython",
    "version": 3
   },
   "file_extension": ".py",
   "mimetype": "text/x-python",
   "name": "python",
   "nbconvert_exporter": "python",
   "pygments_lexer": "ipython3",
   "version": "3.9.9"
  }
 },
 "nbformat": 4,
 "nbformat_minor": 5
}
