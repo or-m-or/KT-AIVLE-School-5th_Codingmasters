{
 "cells": [
  {
   "cell_type": "markdown",
   "metadata": {},
   "source": [
    "## 1. 데이터 출력"
   ]
  },
  {
   "cell_type": "markdown",
   "metadata": {},
   "source": [
    "### 1. Packing, Unpacking"
   ]
  },
  {
   "cell_type": "markdown",
   "metadata": {},
   "source": [
    "1. ```Packing```, ```Unpacking```\n",
    "    - ```Packing``` : 하나의 변수에 여러 개의 값을 넣는 기법\n",
    "    - 흔히 tuple 자료형을 사용할 경우 이 기법을 많이 채용함.\n",
    "    - ```Unpacking``` : tuple 로 묶인 값들을 다시 풀어주는 기법\n",
    "    - 이를 잘 활용한다면, List 에 담긴 값을 반복문 없이도 쉽게 출력시킬 수 있다."
   ]
  },
  {
   "cell_type": "code",
   "execution_count": 1,
   "metadata": {},
   "outputs": [],
   "source": [
    "numbers = 1, 2, 3, 4\n",
    "N, M, K, L = numbers"
   ]
  },
  {
   "cell_type": "markdown",
   "metadata": {},
   "source": [
    "2) ```Asterisk```\n",
    "    - Asterisk (*) 는 Python 에서 다양한 용도로 사용되는 특수 문자 중 하나다.\n",
    "    - 곱셉, 리스트 확장의 등의 기능도 있으나, Unpacking 을 진행할 때도 쓰인다.\n",
    "    -  for 문 없이도 data 변수가 자동으로 언패킹 되어 화면에 출력할 수 있다."
   ]
  },
  {
   "cell_type": "code",
   "execution_count": 2,
   "metadata": {},
   "outputs": [
    {
     "name": "stdout",
     "output_type": "stream",
     "text": [
      "1 2 3 4 5\n"
     ]
    }
   ],
   "source": [
    "data = [1, 2, 3, 4, 5]\n",
    "print(*data)"
   ]
  },
  {
   "cell_type": "markdown",
   "metadata": {},
   "source": [
    "- ```print()``` 함수의 경우, 키워드 인자가 아니면 해당 값을 전부 String 으로 변환시킨다.\n",
    "- 따라서 data 변수를 언패킹한 값을 가변 인자로 받아, 이를 문자열로 변경해 출력해준다.\n",
    "\n",
    "- 한 가지 주의할 점은 언패킹의 결과값은 공백을 기준으로 한 줄에 걸쳐 나온다는 것이다.\n",
    "- 따라서 이를 여러 줄에 걸쳐 출력시키고 싶다면, print() 함수의 속성을 이용해야 한다."
   ]
  },
  {
   "cell_type": "markdown",
   "metadata": {},
   "source": [
    "언패킹 된 결과를 여러 줄에 걸쳐 출력하려면 ```sep``` 옵션을 사용할 수 있다.\n",
    "- ```sep``` 옵션은 ```print()``` 함수의 출력문 사이에 다른 값을 넣도록 해주는 기능이다.\n",
    "- 기본적으로 ```sep``` 옵션은 공백으로 되어있다."
   ]
  },
  {
   "cell_type": "code",
   "execution_count": null,
   "metadata": {},
   "outputs": [],
   "source": [
    "data = [1, 2, 3]\n",
    "print(*data, sep='\\n')"
   ]
  },
  {
   "cell_type": "markdown",
   "metadata": {},
   "source": [
    "- ```end``` 옵션은 ```print()``` 함수가 종료된 이후의 내용을 수정해주는 기능\n",
    "- 기본적으로 ```end``` 옵션은 개행문자 ```\\n``` 지만, 이를 바꿔 줄바꿈을 방지할 수 있다.\n",
    "- 공백으로 옵션 값을 변경하여 한 줄에 걸쳐 결과 값을 출력시켰다."
   ]
  },
  {
   "cell_type": "code",
   "execution_count": null,
   "metadata": {},
   "outputs": [],
   "source": [
    "data = [1, 2, 3]\n",
    "for num in data:\n",
    "\tprint(num, end=' ')"
   ]
  },
  {
   "cell_type": "markdown",
   "metadata": {},
   "source": [
    "### 2. sys.stdout.write"
   ]
  },
  {
   "cell_type": "markdown",
   "metadata": {},
   "source": [
    "- `sys.stdout.write`는 표준 출력(stdout)에 직접 문자열을 쓰기 위해 사용되는 메서드\n",
    "\n",
    "- `print`는 기본적으로 출력할 데이터 끝에 개행 문자(`\\n`)를 추가하지만\n",
    "- `sys.stdout.write`는 이를 자동으로 추가하지 않음. \n",
    "- 따라서 개행이 필요할 경우, 명시적으로 `\\n`을 문자열에 포함시켜야 함.\n",
    "- `sys.stdout.write`는 문자열만을 인자로 받음 \n",
    "    - 다른 타입의 객체를 출력하려면 문자열로 변환해야 함. \n",
    "    - `print` 함수는 여러 타입의 객체를 자동으로 문자열로 변환함.\n",
    "- `sys.stdout.write`는 출력된 문자열의 길이를 정수로 반환함."
   ]
  },
  {
   "cell_type": "markdown",
   "metadata": {},
   "source": [
    "#### 📌 1. 기본 사용 방법"
   ]
  },
  {
   "cell_type": "code",
   "execution_count": 5,
   "metadata": {},
   "outputs": [
    {
     "name": "stdout",
     "output_type": "stream",
     "text": [
      "Hello, World!\n",
      "Hello, Python!\n",
      "Line 1\n",
      "Line 2\n",
      "42\n"
     ]
    },
    {
     "data": {
      "text/plain": [
       "3"
      ]
     },
     "execution_count": 5,
     "metadata": {},
     "output_type": "execute_result"
    }
   ],
   "source": [
    "import sys\n",
    "\n",
    "# 문자열 출력\n",
    "sys.stdout.write(\"Hello, World!\\n\")\n",
    "\n",
    "# 변수를 포함한 문자열 출력\n",
    "name = \"Python\"\n",
    "sys.stdout.write(f\"Hello, {name}!\\n\")\n",
    "\n",
    "# 개행을 포함하여 여러 줄 출력\n",
    "sys.stdout.write(\"Line 1\\nLine 2\\n\")\n",
    "\n",
    "# 문자열이 아닌 객체 출력 (객체를 문자열로 변환)\n",
    "number = 42\n",
    "sys.stdout.write(str(number) + \"\\n\")"
   ]
  },
  {
   "cell_type": "markdown",
   "metadata": {},
   "source": [
    "#### 📌 2. 0부터 9까지 숫자를 한 줄에 출력"
   ]
  },
  {
   "cell_type": "code",
   "execution_count": 6,
   "metadata": {},
   "outputs": [
    {
     "name": "stdout",
     "output_type": "stream",
     "text": [
      "0123456789\n"
     ]
    },
    {
     "data": {
      "text/plain": [
       "1"
      ]
     },
     "execution_count": 6,
     "metadata": {},
     "output_type": "execute_result"
    }
   ],
   "source": [
    "for i in range(10):\n",
    "    sys.stdout.write(str(i))\n",
    "sys.stdout.write(\"\\n\")  # 모든 숫자 출력 후 개행"
   ]
  },
  {
   "cell_type": "markdown",
   "metadata": {},
   "source": [
    "#### 📌 3. ' '.join 사용"
   ]
  },
  {
   "cell_type": "code",
   "execution_count": 7,
   "metadata": {},
   "outputs": [
    {
     "name": "stdout",
     "output_type": "stream",
     "text": [
      "테 스 트\n"
     ]
    },
    {
     "data": {
      "text/plain": [
       "6"
      ]
     },
     "execution_count": 7,
     "metadata": {},
     "output_type": "execute_result"
    }
   ],
   "source": [
    "data = '테스트'\n",
    "sys.stdout.write(' '.join(data) + '\\n')"
   ]
  }
 ],
 "metadata": {
  "kernelspec": {
   "display_name": "Python 3",
   "language": "python",
   "name": "python3"
  },
  "language_info": {
   "codemirror_mode": {
    "name": "ipython",
    "version": 3
   },
   "file_extension": ".py",
   "mimetype": "text/x-python",
   "name": "python",
   "nbconvert_exporter": "python",
   "pygments_lexer": "ipython3",
   "version": "3.9.9"
  }
 },
 "nbformat": 4,
 "nbformat_minor": 2
}
