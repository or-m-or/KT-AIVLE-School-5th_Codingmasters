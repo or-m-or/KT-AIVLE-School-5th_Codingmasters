{
 "cells": [
  {
   "cell_type": "markdown",
   "metadata": {},
   "source": [
    "## NO 1. 데이터 입력"
   ]
  },
  {
   "cell_type": "markdown",
   "metadata": {},
   "source": [
    "1. Standard : input()\n",
    "    - 프롬프트 입력 -> '\\n'제거 -> 문자열로 변경 -> return\n",
    "    - 더 이상 입력 X -> EOFError\n",
    "2. Skill : sys.stdin\n",
    "    - 프롬프트 입력 -> Buffer에 저장 -> 요청이 오면 읽음.\n",
    "    - sys.stdin 은 객체(File Object)이다.\n",
    "    - .readline() 은 EOF에 도달하면 빈 문자열 반환\n",
    "    - .readline() 은 '\\n'까지 읽어옴 -> .strip()으로 제거 필요"
   ]
  },
  {
   "cell_type": "markdown",
   "metadata": {},
   "source": [
    "#### 📌 1. 정수 N개, 한 줄 입력"
   ]
  },
  {
   "cell_type": "code",
   "execution_count": 2,
   "metadata": {},
   "outputs": [],
   "source": [
    "import sys\n",
    "\n",
    "read = sys.stdin.readline\n",
    "N, M, K = map(int, read().split())"
   ]
  },
  {
   "cell_type": "markdown",
   "metadata": {},
   "source": [
    "#### 📌 2. 정수 N개, 한 줄 입력 -> List 저장"
   ]
  },
  {
   "cell_type": "code",
   "execution_count": null,
   "metadata": {},
   "outputs": [],
   "source": [
    "import sys\n",
    "\n",
    "read = sys.stdin.readline\n",
    "data = list(map(int, read().split()))"
   ]
  },
  {
   "cell_type": "markdown",
   "metadata": {},
   "source": [
    "#### 📌 3. 정수 N개, 여러 줄로 입력 -> List 저장"
   ]
  },
  {
   "cell_type": "code",
   "execution_count": 1,
   "metadata": {},
   "outputs": [],
   "source": [
    "import sys\n",
    "\n",
    "read = sys.stdin.readline\n",
    "N = int(read())\n",
    "data = [int(read()) for _ in range(N)]\n",
    "\n",
    "# 방법1. List 생성 -> append()\n",
    "# 밥법2. List Comprehension"
   ]
  },
  {
   "cell_type": "markdown",
   "metadata": {},
   "source": [
    "#### 📌 4. 문자열 N개, 여러 줄 입력, -> List 저장"
   ]
  },
  {
   "cell_type": "code",
   "execution_count": null,
   "metadata": {},
   "outputs": [],
   "source": [
    "import sys\n",
    "\n",
    "read = sys.stdin.readline\n",
    "N = int(read())\n",
    "data = [read().strip() for _ in range(N)] # strip() 함수를 통해 문자열에 붙은 개행문자 제거"
   ]
  },
  {
   "cell_type": "markdown",
   "metadata": {},
   "source": [
    "#### 📌 5. 정수 N개, 여러 줄 입력, -> 2차원 배열 저장"
   ]
  },
  {
   "cell_type": "code",
   "execution_count": null,
   "metadata": {},
   "outputs": [],
   "source": [
    "import sys\n",
    "\n",
    "read = sys.stdin.readline\n",
    "N = int(read())\n",
    "matrix = [list(map(int, read().split())) for _ in range(N)]"
   ]
  }
 ],
 "metadata": {
  "kernelspec": {
   "display_name": "Python 3",
   "language": "python",
   "name": "python3"
  },
  "language_info": {
   "codemirror_mode": {
    "name": "ipython",
    "version": 3
   },
   "file_extension": ".py",
   "mimetype": "text/x-python",
   "name": "python",
   "nbconvert_exporter": "python",
   "pygments_lexer": "ipython3",
   "version": "3.9.9"
  }
 },
 "nbformat": 4,
 "nbformat_minor": 2
}
